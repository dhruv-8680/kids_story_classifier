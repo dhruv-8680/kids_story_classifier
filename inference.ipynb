{
 "cells": [
  {
   "cell_type": "code",
   "execution_count": 1,
   "metadata": {
    "ExecuteTime": {
     "end_time": "2020-02-18T14:33:36.837330Z",
     "start_time": "2020-02-18T14:33:33.140734Z"
    }
   },
   "outputs": [],
   "source": [
    "import numpy as np\n",
    "import pandas as pd\n",
    "pd.set_option(\"display.max_columns\", 350)\n",
    "import os\n",
    "from glob import glob\n",
    "\n",
    "from sklearn.feature_extraction.text import TfidfVectorizer\n",
    "from sklearn.cluster import KMeans, MiniBatchKMeans\n",
    "from sklearn.utils import shuffle\n",
    "from sklearn.metrics import silhouette_score\n",
    "from sklearn.decomposition import PCA\n",
    "from sklearn.preprocessing import MinMaxScaler\n",
    "\n",
    "from nltk.corpus import stopwords\n",
    "\n",
    "import matplotlib.pyplot as plt\n",
    "import seaborn as sns\n",
    "\n",
    "import re\n",
    "from tqdm import tqdm\n",
    "\n",
    "import pickle as pkl\n",
    "from utils import *"
   ]
  },
  {
   "cell_type": "code",
   "execution_count": 2,
   "metadata": {
    "ExecuteTime": {
     "end_time": "2020-02-18T14:33:38.135423Z",
     "start_time": "2020-02-18T14:33:38.130450Z"
    }
   },
   "outputs": [],
   "source": [
    "DATASET_PATH = \"./Story text files/\"\n",
    "stpwords = stopwords.words(\"english\")\n",
    "with open(\"./models/test_file_names.pkl\", \"rb\") as fp:\n",
    "    test_file_names = pkl.load( fp)\n",
    "\n",
    "test_file_path = []\n",
    "for name in test_file_names:\n",
    "    test_file_path.append(DATASET_PATH+name)"
   ]
  },
  {
   "cell_type": "code",
   "execution_count": 50,
   "metadata": {
    "ExecuteTime": {
     "end_time": "2020-02-18T14:49:28.466538Z",
     "start_time": "2020-02-18T14:49:28.462805Z"
    }
   },
   "outputs": [],
   "source": [
    "def predictV6(textCorpus,\n",
    "              tfidf=tf_idf_v6, \n",
    "              pca=pca_v6, \n",
    "              file_names = \"input_file\",\n",
    "              _stopWords=stpwords,\n",
    "              model=kmeans_v6,\n",
    "              output_dict = pred_v6_dict):\n",
    "    df = preprocessV6input(corpusList=[textCorpus], \n",
    "                                        tfidf=tf_idf_v6, \n",
    "                                        pca=pca_v6, \n",
    "                                        file_names = [file_names],\n",
    "                                        _stopWords=stpwords)\n",
    "    out = output_dict[model.predict(df.iloc[:,:-1])[0]]\n",
    "    return \"Level-\"+str(out)+\" of 6 levels\"\n",
    "\n",
    "def predictV7(textCorpus,\n",
    "              tfidf=tf_idf_v7, \n",
    "              pca=pca_v7, \n",
    "              scaler_pos = scaler_pos_v7, \n",
    "              scaler_length = scaler_length_v7, \n",
    "              file_names = \"input_file\",\n",
    "              _stopWords=stpwords,\n",
    "              model=kmeans_v7,\n",
    "              output_dict = pred_v7_dict):\n",
    "    df = preprocessV7input(corpusList=[textCorpus], \n",
    "                          tfidf=tf_idf_v7, \n",
    "                          pca=pca_v7, \n",
    "                          scaler_pos = scaler_pos_v7, \n",
    "                          scaler_length = scaler_length_v7, \n",
    "                          file_names = [file_names],\n",
    "                          _stopWords=stpwords)\n",
    "    out = output_dict[model.predict(df.iloc[:,:-1])[0]]\n",
    "    return \"Level-\"+str(out)+\" of 6 levels\"\n",
    "    "
   ]
  },
  {
   "cell_type": "markdown",
   "metadata": {},
   "source": [
    "<h2>Model V6</h2>"
   ]
  },
  {
   "cell_type": "code",
   "execution_count": 3,
   "metadata": {
    "ExecuteTime": {
     "end_time": "2020-02-18T14:33:38.582841Z",
     "start_time": "2020-02-18T14:33:38.499748Z"
    }
   },
   "outputs": [],
   "source": [
    "with open(\"./models/model_v6/tf_idf.model\", \"rb\") as fp:\n",
    "    tf_idf_v6 = pkl.load( fp)\n",
    "with open(\"./models/model_v6/pca.model\", \"rb\") as fp:\n",
    "    pca_v6 = pkl.load( fp)\n",
    "with open(\"./models/model_v6/scaler_pos.model\", \"rb\") as fp:\n",
    "    scaler_pos_v6 = pkl.load( fp)\n",
    "with open(\"./models/model_v6/scaler_length.model\", \"rb\") as fp:\n",
    "    scaler_length_v6 = pkl.load( fp)\n",
    "with open(\"./models/model_v6/kmeans.model\", \"rb\") as fp:\n",
    "    kmeans_v6 = pkl.load( fp)"
   ]
  },
  {
   "cell_type": "code",
   "execution_count": 4,
   "metadata": {
    "ExecuteTime": {
     "end_time": "2020-02-18T14:33:38.924131Z",
     "start_time": "2020-02-18T14:33:38.892158Z"
    }
   },
   "outputs": [],
   "source": [
    "test_file_names = getFileNames(test_file_path)\n",
    "test_corpus_list = readFiles(test_file_path)"
   ]
  },
  {
   "cell_type": "code",
   "execution_count": 5,
   "metadata": {
    "ExecuteTime": {
     "end_time": "2020-02-18T14:33:39.316156Z",
     "start_time": "2020-02-18T14:33:39.179488Z"
    },
    "code_folding": []
   },
   "outputs": [],
   "source": [
    "pred_v6_dict = {3:1,1:2,4:3,0:4,2:5,5:6}\n",
    "df_v6 = preprocessV6input(corpusList=test_corpus_list, \n",
    "                          tfidf=tf_idf_v6, \n",
    "                          pca=pca_v6, \n",
    "                          file_names = test_file_names,\n",
    "                          _stopWords=stpwords)\n"
   ]
  },
  {
   "cell_type": "code",
   "execution_count": 6,
   "metadata": {
    "ExecuteTime": {
     "end_time": "2020-02-18T14:33:39.783373Z",
     "start_time": "2020-02-18T14:33:39.779087Z"
    }
   },
   "outputs": [],
   "source": [
    "v6_preds = kmeans_v6.predict(df_v6.iloc[:,:-1])"
   ]
  },
  {
   "cell_type": "code",
   "execution_count": 7,
   "metadata": {
    "ExecuteTime": {
     "end_time": "2020-02-18T14:33:40.245071Z",
     "start_time": "2020-02-18T14:33:40.241939Z"
    }
   },
   "outputs": [],
   "source": [
    "\n",
    "v6_preds_names = np.array(test_file_names)[np.where(v6_preds==1)]\n",
    "for doc in v6_preds_names:\n",
    "#     print(DATASET_PATH+str(doc))\n",
    "    print(readFiles([DATASET_PATH+doc], isRemoveSpecailchar=False, isToLower=False))\n",
    "    print()\n",
    "    print()"
   ]
  },
  {
   "cell_type": "code",
   "execution_count": 42,
   "metadata": {
    "ExecuteTime": {
     "end_time": "2020-02-18T14:46:14.097924Z",
     "start_time": "2020-02-18T14:46:14.082861Z"
    }
   },
   "outputs": [
    {
     "data": {
      "text/plain": [
       "'Level-4 of 6 levels'"
      ]
     },
     "execution_count": 42,
     "metadata": {},
     "output_type": "execute_result"
    }
   ],
   "source": [
    "#predict your output\n",
    "df_v6 = preprocessV6input(corpusList=[test_corpus_list[0]], \n",
    "                          tfidf=tf_idf_v6, \n",
    "                          pca=pca_v6, \n",
    "                          file_names = [\"input_file\"],\n",
    "                          _stopWords=stpwords)\n",
    "\n"
   ]
  },
  {
   "cell_type": "markdown",
   "metadata": {},
   "source": [
    "<h2>Model V7</h2>"
   ]
  },
  {
   "cell_type": "code",
   "execution_count": 9,
   "metadata": {
    "ExecuteTime": {
     "end_time": "2020-02-18T14:33:41.183557Z",
     "start_time": "2020-02-18T14:33:41.119111Z"
    }
   },
   "outputs": [],
   "source": [
    "with open(\"./models/model_v7/tf_idf.model\", \"rb\") as fp:\n",
    "    tf_idf_v7 = pkl.load( fp)\n",
    "with open(\"./models/model_v7/pca.model\", \"rb\") as fp:\n",
    "    pca_v7 = pkl.load( fp)\n",
    "with open(\"./models/model_v7/scaler_pos.model\", \"rb\") as fp:\n",
    "    scaler_pos_v7 = pkl.load( fp)\n",
    "with open(\"./models/model_v7/scaler_length.model\", \"rb\") as fp:\n",
    "    scaler_length_v7 = pkl.load( fp)\n",
    "with open(\"./models/model_v7/kmeans.model\", \"rb\") as fp:\n",
    "    kmeans_v7 = pkl.load( fp)"
   ]
  },
  {
   "cell_type": "code",
   "execution_count": 27,
   "metadata": {
    "ExecuteTime": {
     "end_time": "2020-02-18T14:36:23.675075Z",
     "start_time": "2020-02-18T14:36:23.672275Z"
    }
   },
   "outputs": [],
   "source": []
  },
  {
   "cell_type": "code",
   "execution_count": 48,
   "metadata": {
    "ExecuteTime": {
     "end_time": "2020-02-18T14:48:46.850044Z",
     "start_time": "2020-02-18T14:48:46.833567Z"
    }
   },
   "outputs": [
    {
     "name": "stderr",
     "output_type": "stream",
     "text": [
      "100%|██████████| 1/1 [00:00<00:00, 144.72it/s]\n"
     ]
    }
   ],
   "source": [
    "pred_v7_dict = {2:1,4:2,5:3,1:4,0:5,3:6}\n",
    "df_v7 = preprocessV7input(corpusList=test_corpus_list[0:1], \n",
    "                          tfidf=tf_idf_v7, \n",
    "                          pca=pca_v7, \n",
    "                          scaler_pos = scaler_pos_v7, \n",
    "                          scaler_length = scaler_length_v7, \n",
    "                          file_names = test_file_names[0:1],\n",
    "                          _stopWords=stpwords)\n",
    "\n"
   ]
  },
  {
   "cell_type": "code",
   "execution_count": 12,
   "metadata": {
    "ExecuteTime": {
     "end_time": "2020-02-18T14:33:44.599753Z",
     "start_time": "2020-02-18T14:33:44.593718Z"
    },
    "scrolled": true
   },
   "outputs": [
    {
     "data": {
      "text/plain": [
       "array([4, 1, 5, 2, 1, 4, 1, 5, 0, 4, 2, 5, 2, 4, 4, 5, 2, 4, 4, 4, 3, 1,\n",
       "       4, 4, 4, 2, 5, 1, 5, 5, 4, 2, 3, 0, 1, 3, 4, 2, 5, 4, 4, 5, 2, 2],\n",
       "      dtype=int32)"
      ]
     },
     "execution_count": 12,
     "metadata": {},
     "output_type": "execute_result"
    }
   ],
   "source": [
    "v7_preds = kmeans_v7.predict(df_v7.iloc[:,:-1])\n",
    "v7_preds_names = np.array(test_file_names)[np.where(v7_preds==1)]\n",
    "\n",
    "for doc in v7_preds_names:\n",
    "#     print(DATASET_PATH+str(doc))\n",
    "    print(readFiles([DATASET_PATH+doc], isRemoveSpecailchar=False, isToLower=False))\n",
    "    print()\n",
    "    print()"
   ]
  },
  {
   "cell_type": "markdown",
   "metadata": {},
   "source": [
    "<h2>Prediction for V7</h2>\n",
    "<h3>Input text corpus to check the level</h3>"
   ]
  },
  {
   "cell_type": "code",
   "execution_count": 59,
   "metadata": {
    "ExecuteTime": {
     "end_time": "2020-02-18T14:54:41.234270Z",
     "start_time": "2020-02-18T14:54:41.216031Z"
    }
   },
   "outputs": [
    {
     "name": "stderr",
     "output_type": "stream",
     "text": [
      "100%|██████████| 1/1 [00:00<00:00, 147.38it/s]\n"
     ]
    },
    {
     "data": {
      "text/plain": [
       "'Level-2 of 6 levels'"
      ]
     },
     "execution_count": 59,
     "metadata": {},
     "output_type": "execute_result"
    }
   ],
   "source": [
    "predictV7(test_corpus_list[0])\n",
    "#input the text corpus in the function\n",
    "#predictV7( INPUT_CORPUS )"
   ]
  },
  {
   "cell_type": "markdown",
   "metadata": {},
   "source": [
    "<h2>Prediction for V6</h2>\n",
    "<h3>Input text corpus to check the level</h3>"
   ]
  },
  {
   "cell_type": "code",
   "execution_count": 60,
   "metadata": {
    "ExecuteTime": {
     "end_time": "2020-02-18T14:54:49.969211Z",
     "start_time": "2020-02-18T14:54:49.959311Z"
    }
   },
   "outputs": [
    {
     "data": {
      "text/plain": [
       "'Level-4 of 6 levels'"
      ]
     },
     "execution_count": 60,
     "metadata": {},
     "output_type": "execute_result"
    }
   ],
   "source": [
    "predictV6(test_corpus_list[3])\n",
    "#input the text corpus in the function\n",
    "#predictV6( INPUT_CORPUS )"
   ]
  },
  {
   "cell_type": "code",
   "execution_count": null,
   "metadata": {},
   "outputs": [],
   "source": []
  }
 ],
 "metadata": {
  "kernelspec": {
   "display_name": "Python 3",
   "language": "python",
   "name": "python3"
  },
  "language_info": {
   "codemirror_mode": {
    "name": "ipython",
    "version": 3
   },
   "file_extension": ".py",
   "mimetype": "text/x-python",
   "name": "python",
   "nbconvert_exporter": "python",
   "pygments_lexer": "ipython3",
   "version": "3.6.5"
  },
  "varInspector": {
   "cols": {
    "lenName": 16,
    "lenType": 16,
    "lenVar": 40
   },
   "kernels_config": {
    "python": {
     "delete_cmd_postfix": "",
     "delete_cmd_prefix": "del ",
     "library": "var_list.py",
     "varRefreshCmd": "print(var_dic_list())"
    },
    "r": {
     "delete_cmd_postfix": ") ",
     "delete_cmd_prefix": "rm(",
     "library": "var_list.r",
     "varRefreshCmd": "cat(var_dic_list()) "
    }
   },
   "types_to_exclude": [
    "module",
    "function",
    "builtin_function_or_method",
    "instance",
    "_Feature"
   ],
   "window_display": false
  }
 },
 "nbformat": 4,
 "nbformat_minor": 2
}
